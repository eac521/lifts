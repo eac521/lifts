{
 "cells": [
  {
   "cell_type": "code",
   "execution_count": 1,
   "id": "0c941fc7",
   "metadata": {},
   "outputs": [],
   "source": [
    "import pandas as pd\n",
    "import numpy as np\n",
    "import seaborn as sns\n",
    "import matplotlib.pyplot as plt\n",
    "import requests\n",
    "from bs4 import BeautifulSoup"
   ]
  },
  {
   "cell_type": "code",
   "execution_count": 19,
   "id": "175000ee",
   "metadata": {},
   "outputs": [],
   "source": [
    "auth= {\n",
    "'user_name' : 'eac521',\n",
    "'password' : 'dukes845'\n",
    "}\n",
    "#headers = {'User-Agent':'Mozilla/5.0 (Macintosh; Intel Mac OS X 10_14_6) AppleWebKit/537.36 (KHTML, like Gecko) Chrome','Accept' : 'text/html,application/xhtml+xml,application/xml;' 'q=0.9,image/webp,*/*;q=0.8'}\n",
    "url = 'https://log.concept2.com/login'"
   ]
  },
  {
   "cell_type": "code",
   "execution_count": 24,
   "id": "c29856d6",
   "metadata": {},
   "outputs": [],
   "source": [
    "req = requests.get(url,params=auth)"
   ]
  },
  {
   "cell_type": "code",
   "execution_count": 29,
   "id": "30d9703f",
   "metadata": {},
   "outputs": [],
   "source": [
    "BeautifulSoup(req.text,'html.parser').find_all('a',{'href':'/log'})\n",
    "log = requests.get(url+'/log')"
   ]
  },
  {
   "cell_type": "code",
   "execution_count": 30,
   "id": "2d1f6838",
   "metadata": {},
   "outputs": [
    {
     "data": {
      "text/plain": [
       "<Response [404]>"
      ]
     },
     "execution_count": 30,
     "metadata": {},
     "output_type": "execute_result"
    }
   ],
   "source": [
    "log"
   ]
  },
  {
   "cell_type": "code",
   "execution_count": 5,
   "id": "456ca5b7",
   "metadata": {},
   "outputs": [
    {
     "data": {
      "text/plain": [
       "<Response [400]>"
      ]
     },
     "execution_count": 5,
     "metadata": {},
     "output_type": "execute_result"
    }
   ],
   "source": [
    "requests.post('https://log.concept2.com/oauth/access_token',params=auth)"
   ]
  },
  {
   "cell_type": "code",
   "execution_count": null,
   "id": "53d6c29b",
   "metadata": {},
   "outputs": [],
   "source": [
    "requests"
   ]
  },
  {
   "cell_type": "code",
   "execution_count": null,
   "id": "bd6bd896",
   "metadata": {},
   "outputs": [],
   "source": []
  },
  {
   "cell_type": "code",
   "execution_count": null,
   "id": "8a18ffb0",
   "metadata": {},
   "outputs": [],
   "source": []
  },
  {
   "cell_type": "markdown",
   "id": "9cbabd3f",
   "metadata": {},
   "source": [
    "#### couldnt get the api to work manually extracted data"
   ]
  },
  {
   "cell_type": "markdown",
   "id": "e1ec16c9",
   "metadata": {},
   "source": [
    "### Going through CSVs"
   ]
  },
  {
   "cell_type": "code",
   "execution_count": 74,
   "id": "e4b9a14b",
   "metadata": {},
   "outputs": [],
   "source": [
    "import zipfile\n",
    "import os"
   ]
  },
  {
   "cell_type": "code",
   "execution_count": 170,
   "id": "515d7147",
   "metadata": {},
   "outputs": [],
   "source": [
    "datad = '/Users/ericcoxon/code/lifts/erg/data/'"
   ]
  },
  {
   "cell_type": "code",
   "execution_count": 91,
   "id": "0048935f",
   "metadata": {},
   "outputs": [],
   "source": [
    "def unZip(directory):\n",
    "    zips = [z for z in os.listdir(directory) if z.find('.zip')>-1]\n",
    "    for z in zips:\n",
    "        zipfile.ZipFile(directory+'/'+z).extractall(directory)\n",
    "        os.remove(directory+'/'+z)\n",
    "        print('unzipped',z,'and the zip file has been deleted')"
   ]
  },
  {
   "cell_type": "code",
   "execution_count": 111,
   "id": "2d1e3501",
   "metadata": {},
   "outputs": [],
   "source": [
    "files = [datad+'/'+file for file in os.listdir(datad) if file.find('.csv')>-1]"
   ]
  },
  {
   "cell_type": "code",
   "execution_count": 112,
   "id": "6a54ee3c",
   "metadata": {},
   "outputs": [
    {
     "data": {
      "text/html": [
       "<div>\n",
       "<style scoped>\n",
       "    .dataframe tbody tr th:only-of-type {\n",
       "        vertical-align: middle;\n",
       "    }\n",
       "\n",
       "    .dataframe tbody tr th {\n",
       "        vertical-align: top;\n",
       "    }\n",
       "\n",
       "    .dataframe thead th {\n",
       "        text-align: right;\n",
       "    }\n",
       "</style>\n",
       "<table border=\"1\" class=\"dataframe\">\n",
       "  <thead>\n",
       "    <tr style=\"text-align: right;\">\n",
       "      <th></th>\n",
       "      <th>Number</th>\n",
       "      <th>Time (seconds)</th>\n",
       "      <th>Distance (meters)</th>\n",
       "      <th>Pace (seconds)</th>\n",
       "      <th>Watts</th>\n",
       "      <th>Cal/Hr</th>\n",
       "      <th>Stroke Rate</th>\n",
       "      <th>Heart Rate</th>\n",
       "    </tr>\n",
       "  </thead>\n",
       "  <tbody>\n",
       "    <tr>\n",
       "      <th>0</th>\n",
       "      <td>1</td>\n",
       "      <td>3.0</td>\n",
       "      <td>14.3</td>\n",
       "      <td>196.9</td>\n",
       "      <td>46</td>\n",
       "      <td>457</td>\n",
       "      <td>57</td>\n",
       "      <td>94</td>\n",
       "    </tr>\n",
       "    <tr>\n",
       "      <th>1</th>\n",
       "      <td>2</td>\n",
       "      <td>5.0</td>\n",
       "      <td>27.3</td>\n",
       "      <td>156.6</td>\n",
       "      <td>91</td>\n",
       "      <td>613</td>\n",
       "      <td>65</td>\n",
       "      <td>95</td>\n",
       "    </tr>\n",
       "    <tr>\n",
       "      <th>2</th>\n",
       "      <td>3</td>\n",
       "      <td>6.5</td>\n",
       "      <td>37.8</td>\n",
       "      <td>144.9</td>\n",
       "      <td>115</td>\n",
       "      <td>695</td>\n",
       "      <td>69</td>\n",
       "      <td>96</td>\n",
       "    </tr>\n",
       "    <tr>\n",
       "      <th>3</th>\n",
       "      <td>4</td>\n",
       "      <td>8.5</td>\n",
       "      <td>52.2</td>\n",
       "      <td>139.7</td>\n",
       "      <td>128</td>\n",
       "      <td>741</td>\n",
       "      <td>71</td>\n",
       "      <td>99</td>\n",
       "    </tr>\n",
       "    <tr>\n",
       "      <th>4</th>\n",
       "      <td>5</td>\n",
       "      <td>10.0</td>\n",
       "      <td>63.4</td>\n",
       "      <td>137.3</td>\n",
       "      <td>135</td>\n",
       "      <td>765</td>\n",
       "      <td>73</td>\n",
       "      <td>101</td>\n",
       "    </tr>\n",
       "    <tr>\n",
       "      <th>...</th>\n",
       "      <td>...</td>\n",
       "      <td>...</td>\n",
       "      <td>...</td>\n",
       "      <td>...</td>\n",
       "      <td>...</td>\n",
       "      <td>...</td>\n",
       "      <td>...</td>\n",
       "      <td>...</td>\n",
       "    </tr>\n",
       "    <tr>\n",
       "      <th>187</th>\n",
       "      <td>188</td>\n",
       "      <td>92.3</td>\n",
       "      <td>910.5</td>\n",
       "      <td>104.1</td>\n",
       "      <td>310</td>\n",
       "      <td>1367</td>\n",
       "      <td>94</td>\n",
       "      <td>169</td>\n",
       "    </tr>\n",
       "    <tr>\n",
       "      <th>188</th>\n",
       "      <td>189</td>\n",
       "      <td>93.8</td>\n",
       "      <td>924.5</td>\n",
       "      <td>106.5</td>\n",
       "      <td>290</td>\n",
       "      <td>1297</td>\n",
       "      <td>92</td>\n",
       "      <td>169</td>\n",
       "    </tr>\n",
       "    <tr>\n",
       "      <th>189</th>\n",
       "      <td>190</td>\n",
       "      <td>95.3</td>\n",
       "      <td>937.4</td>\n",
       "      <td>109.3</td>\n",
       "      <td>268</td>\n",
       "      <td>1222</td>\n",
       "      <td>88</td>\n",
       "      <td>170</td>\n",
       "    </tr>\n",
       "    <tr>\n",
       "      <th>190</th>\n",
       "      <td>191</td>\n",
       "      <td>96.8</td>\n",
       "      <td>948.7</td>\n",
       "      <td>118.1</td>\n",
       "      <td>212</td>\n",
       "      <td>1031</td>\n",
       "      <td>79</td>\n",
       "      <td>170</td>\n",
       "    </tr>\n",
       "    <tr>\n",
       "      <th>191</th>\n",
       "      <td>192</td>\n",
       "      <td>98.3</td>\n",
       "      <td>958.8</td>\n",
       "      <td>135.7</td>\n",
       "      <td>140</td>\n",
       "      <td>782</td>\n",
       "      <td>68</td>\n",
       "      <td>170</td>\n",
       "    </tr>\n",
       "  </tbody>\n",
       "</table>\n",
       "<p>192 rows × 8 columns</p>\n",
       "</div>"
      ],
      "text/plain": [
       "     Number  Time (seconds)  Distance (meters)  Pace (seconds)  Watts  Cal/Hr  \\\n",
       "0         1             3.0               14.3           196.9     46     457   \n",
       "1         2             5.0               27.3           156.6     91     613   \n",
       "2         3             6.5               37.8           144.9    115     695   \n",
       "3         4             8.5               52.2           139.7    128     741   \n",
       "4         5            10.0               63.4           137.3    135     765   \n",
       "..      ...             ...                ...             ...    ...     ...   \n",
       "187     188            92.3              910.5           104.1    310    1367   \n",
       "188     189            93.8              924.5           106.5    290    1297   \n",
       "189     190            95.3              937.4           109.3    268    1222   \n",
       "190     191            96.8              948.7           118.1    212    1031   \n",
       "191     192            98.3              958.8           135.7    140     782   \n",
       "\n",
       "     Stroke Rate  Heart Rate  \n",
       "0             57          94  \n",
       "1             65          95  \n",
       "2             69          96  \n",
       "3             71          99  \n",
       "4             73         101  \n",
       "..           ...         ...  \n",
       "187           94         169  \n",
       "188           92         169  \n",
       "189           88         170  \n",
       "190           79         170  \n",
       "191           68         170  \n",
       "\n",
       "[192 rows x 8 columns]"
      ]
     },
     "execution_count": 112,
     "metadata": {},
     "output_type": "execute_result"
    }
   ],
   "source": [
    "df = pd.DataFrame()\n",
    "for file in files:\n",
    "    temp = pd.read_csv(file)\n",
    "    temp['rideID'] = file[file.find('result-')+7:file.find('.csv ')]\n",
    "    "
   ]
  },
  {
   "cell_type": "code",
   "execution_count": 114,
   "id": "a79ecc75",
   "metadata": {},
   "outputs": [],
   "source": [
    "df = pd.read_csv(files[1]).drop(columns='Number')"
   ]
  },
  {
   "cell_type": "code",
   "execution_count": 123,
   "id": "682f3487",
   "metadata": {},
   "outputs": [],
   "source": [
    "df.columns = [col.split('(')[0].strip().replace(' ','').replace('/','_') for col in df.columns]"
   ]
  },
  {
   "cell_type": "code",
   "execution_count": 166,
   "id": "620c61d8",
   "metadata": {},
   "outputs": [],
   "source": [
    "def getSeason(year=None):\n",
    "    import datetime as dt\n",
    "    if year == None:\n",
    "        if dt.datetime.today().month>=1 and dt.datetime.today().month<5:\n",
    "            year = dt.datetime.today().year\n",
    "        else:\n",
    "            year = dt.datetime.today().year+1\n",
    "    path = os.path.dirname(os.getcwd())+'/Data'\n",
    "    season = [file for file in os.listdir(path) if file.find('season-'+str(year))>-1]\n",
    "    if len(season)==1:\n",
    "        return season[0]\n",
    "    else:\n",
    "        return season\n",
    "    "
   ]
  },
  {
   "cell_type": "code",
   "execution_count": 167,
   "id": "b8c67cd9",
   "metadata": {},
   "outputs": [],
   "source": [
    "season = getSeason()"
   ]
  },
  {
   "cell_type": "code",
   "execution_count": 172,
   "id": "0ad7c6a2",
   "metadata": {},
   "outputs": [],
   "source": [
    "seasdf = pd.read_csv(datad+season)"
   ]
  },
  {
   "cell_type": "code",
   "execution_count": 189,
   "id": "84a9a0e8",
   "metadata": {},
   "outputs": [],
   "source": [
    "seasdf['Description']=['Zone 2' if str(cell).find('nan')>-1 else 'Zone 5' for cell in seasdf.Comments]"
   ]
  },
  {
   "cell_type": "code",
   "execution_count": null,
   "id": "9fc853c0",
   "metadata": {},
   "outputs": [],
   "source": [
    "seasdf['Time']"
   ]
  },
  {
   "cell_type": "code",
   "execution_count": 201,
   "id": "20d51191",
   "metadata": {},
   "outputs": [
    {
     "data": {
      "text/plain": [
       "Index(['Log ID', 'Date', 'Description', 'Work Time (Formatted)',\n",
       "       'Work Time (Seconds)', 'Rest Time (Formatted)', 'Rest Time (Seconds)',\n",
       "       'Work Distance', 'Rest Distance', 'Stroke Rate/Cadence', 'Stroke Count',\n",
       "       'Pace', 'Avg Watts', 'Cal/Hour', 'Total Cal', 'Avg Heart Rate',\n",
       "       'Drag Factor', 'Age', 'Weight', 'Type', 'Ranked', 'Comments'],\n",
       "      dtype='object')"
      ]
     },
     "execution_count": 201,
     "metadata": {},
     "output_type": "execute_result"
    }
   ],
   "source": [
    "seasdf.columns"
   ]
  },
  {
   "cell_type": "code",
   "execution_count": 217,
   "id": "73a364ed",
   "metadata": {},
   "outputs": [],
   "source": [
    "seasdf['time'] = seasdf.Date.str[10:]\n",
    "seasdf['Date'] = seasdf.Date.str[:10]"
   ]
  },
  {
   "cell_type": "code",
   "execution_count": 232,
   "id": "37740a9e",
   "metadata": {},
   "outputs": [],
   "source": [
    "z2 = seasdf.loc[seasdf.Description=='Zone 2'].iloc[:,:-5].reset_index()"
   ]
  },
  {
   "cell_type": "code",
   "execution_count": 207,
   "id": "52704264",
   "metadata": {},
   "outputs": [],
   "source": [
    "import seaborn as sns\n",
    "import matplotlib.pyplot as plt"
   ]
  },
  {
   "cell_type": "code",
   "execution_count": 221,
   "id": "cc4664ac",
   "metadata": {},
   "outputs": [
    {
     "data": {
      "image/png": "[encoded data removed]",
      "text/plain": [
       "<Figure size 640x480 with 1 Axes>"
      ]
     },
     "metadata": {},
     "output_type": "display_data"
    }
   ],
   "source": [
    "sns.lineplot(data=z2,x='Date',y='Stroke Rate/Cadence')\n",
    "plt.xticks(rotation=45)\n",
    "plt.show()"
   ]
  },
  {
   "cell_type": "code",
   "execution_count": 238,
   "id": "d738e7d7",
   "metadata": {},
   "outputs": [
    {
     "data": {
      "image/png": "[encoded data removed]",
      "text/plain": [
       "<Figure size 500x500 with 1 Axes>"
      ]
     },
     "metadata": {},
     "output_type": "display_data"
    }
   ],
   "source": [
    "\n",
    "#sns.lineplot(data=z2.sort_values(by='Date'),x='Date',y='Avg Watts')\n",
    "sns.lmplot(data=z2.sort_values(by='Date'),x='Avg Watts',y='Stroke Rate/Cadence')\n",
    "plt.xticks(rotation=45)\n",
    "plt.show()"
   ]
  },
  {
   "cell_type": "code",
   "execution_count": null,
   "id": "647c0d41",
   "metadata": {},
   "outputs": [],
   "source": []
  }
 ],
 "metadata": {
  "kernelspec": {
   "display_name": "Python 3 (ipykernel)",
   "language": "python",
   "name": "python3"
  },
  "language_info": {
   "codemirror_mode": {
    "name": "ipython",
    "version": 3
   },
   "file_extension": ".py",
   "mimetype": "text/x-python",
   "name": "python",
   "nbconvert_exporter": "python",
   "pygments_lexer": "ipython3",
   "version": "3.9.7"
  }
 },
 "nbformat": 4,
 "nbformat_minor": 5
}
