{
 "cells": [
  {
   "cell_type": "code",
   "execution_count": 1,
   "id": "70dfc2a3",
   "metadata": {},
   "outputs": [],
   "source": [
    "import EAC\n",
    "import os \n",
    "import pandas as pd\n",
    "import sqlite3"
   ]
  },
  {
   "cell_type": "code",
   "execution_count": 2,
   "id": "5e09d2f8",
   "metadata": {},
   "outputs": [],
   "source": [
    "%load_ext autoreload\n",
    "%autoreload 2"
   ]
  },
  {
   "cell_type": "code",
   "execution_count": 3,
   "id": "df1112dd",
   "metadata": {},
   "outputs": [],
   "source": [
    "training = EAC.training()\n",
    "\n",
    "conn = sqlite3.connect('training.db')"
   ]
  },
  {
   "cell_type": "code",
   "execution_count": null,
   "id": "c8badcb4",
   "metadata": {},
   "outputs": [],
   "source": [
    "create_meso_q = '''\n",
    "CREATE TABLE upcomingTraining (\n",
    "week int,\n",
    "session char(20),\n",
    "movement char(20),\n",
    "method char(20),\n",
    "sets int,\n",
    "reps int,\n",
    "weight float(4),\n",
    "progNotes char(140),\n",
    "targetReps int\n",
    ")\n",
    "'''"
   ]
  },
  {
   "cell_type": "code",
   "execution_count": null,
   "id": "6070b6c6",
   "metadata": {},
   "outputs": [],
   "source": [
    "#each movement/lift is the pk\n",
    "create_movement_table_q = '''\n",
    "CREATE TABLE movements (\n",
    "movement CHAR(40) PRIMARY KEY not null,\n",
    "split CHAR(10),\n",
    "acutalMax int,\n",
    "repMaxCalc float(4),\n",
    "veloEquation CHAR(30),\n",
    "kilos binary\n",
    ");\n",
    "\n",
    "'''"
   ]
  },
  {
   "cell_type": "code",
   "execution_count": null,
   "id": "8e68a6be",
   "metadata": {},
   "outputs": [],
   "source": [
    "#methodID is a amalgamation of method and week \n",
    "create_program_builder_q = '''\n",
    "CREATE TABLE program_builder (\n",
    "methodID char(30) PRIMARY KEY not null,\n",
    "method char(20),\n",
    "week int,\n",
    "sets int,\n",
    "reps int,\n",
    "weight float(4),\n",
    "notes char(140),\n",
    "targetReps int\n",
    ");\n",
    "'''"
   ]
  },
  {
   "cell_type": "code",
   "execution_count": null,
   "id": "1e497795",
   "metadata": {},
   "outputs": [],
   "source": [
    "#sessionID  = date_exercise\n",
    "create_history_q = '''\n",
    "CREATE TABLE history(\n",
    "sessionID PRIMARY KEY not null,\n",
    "sessionDate date,\n",
    "session char(30),\n",
    "movement CHAR(40),\n",
    "method CHAR(20),\n",
    "setsCompleted int,\n",
    "repsCompleted int,\n",
    "weightUsed int,\n",
    "amrapTotal int,\n",
    "newMax binary,\n",
    "notes CHAR(200),\n",
    "RepCalcM int);\n",
    "'''"
   ]
  },
  {
   "cell_type": "code",
   "execution_count": null,
   "id": "989737bf",
   "metadata": {},
   "outputs": [],
   "source": [
    "#veloID = date_exercise_set_rep\n",
    "create_velo_q='''\n",
    "CREATE TABLE velo (\n",
    "movement char(40),\n",
    "sessionDate date,\n",
    "weight_kg float(4),\n",
    "weight_lb float(4),\n",
    "set_ct int,\n",
    "rep int,\n",
    "ecc_con char(4),\n",
    "MPV_ms float(4),\n",
    "peak_velo float(4),\n",
    "rom_cm float(2),\n",
    "rom_in float(2),\n",
    "watts int,\n",
    "est_max_kg float(4),\n",
    "est_max_lb float(4)\n",
    "\n",
    "\n",
    ")\n",
    "'''"
   ]
  },
  {
   "cell_type": "code",
   "execution_count": null,
   "id": "f6cfa3e7",
   "metadata": {},
   "outputs": [],
   "source": [
    "create_rpe_q = '''\n",
    "CREATE TABLE rpe (\n",
    "RPE float(1) PRIMARY KEY not null,\n",
    "rep1 float(4),\n",
    "rep2 float(4),\n",
    "rep3 float(4),\n",
    "rep4 float(4),\n",
    "rep5 float(4),\n",
    "rep6 float(4),\n",
    "rep7 float(4),\n",
    "rep8 float(4),\n",
    "rep9 float(4),\n",
    "rep10 float(4),\n",
    "rep11 float(4),\n",
    "rep12 float(4),\n",
    "rep13 float(4),\n",
    "rep14 float(4),\n",
    "rep15 float(4),\n",
    "rep16 float(4)\n",
    ");'''"
   ]
  },
  {
   "cell_type": "code",
   "execution_count": null,
   "id": "ac89d059",
   "metadata": {},
   "outputs": [],
   "source": [
    "\n",
    "conn.execute(create_program_builder_q)\n",
    "conn.execute(create_meso_q)\n",
    "conn.execute(create_rpe_q)\n",
    "conn.execute(create_history_q)\n",
    "conn.execute(create_movement_table_q)\n",
    "conn.execute(create_velo_q)\n",
    "conn.commit()\n"
   ]
  },
  {
   "cell_type": "markdown",
   "id": "864c9b8a",
   "metadata": {},
   "source": [
    "### Data Loading"
   ]
  },
  {
   "cell_type": "code",
   "execution_count": 127,
   "id": "146488e3",
   "metadata": {},
   "outputs": [],
   "source": [
    "mesoFile = [f for f in files if f.find(' Meso')!=-1][0]\n",
    "startDate = mesoFile.split(' - ')[0][-8:]\n",
    "weeks = mesoFile.split(' - ')[1][9:11]\n",
    "setup = mesoFile.split(' - ')[1][12:-4]\n"
   ]
  },
  {
   "cell_type": "code",
   "execution_count": 204,
   "id": "1347b970",
   "metadata": {},
   "outputs": [],
   "source": [
    "def create_meso_cycle(file,connection):\n",
    "    df = pd.DataFrame(columns = ['movement','method','week','sets','reps','weight','progNotes','targetReps'])\n",
    "    prgbld = pd.read_sql('''\n",
    "    select * \n",
    "    from program_builder\n",
    "    ''',conn)\n",
    "    mesoDF = pd.read_csv(file).fillna(0)\n",
    "    v = df.columns[-5:].values\n",
    "    r=0\n",
    "    for sesh in mesoDF.session.unique():\n",
    "        d = mesoDF[mesoDF.session == sesh]\n",
    "        for movement in d.exercise.unique():\n",
    "            endweek = d[d.exercise==movement].endWeek.values[0]\n",
    "            mod = d[d.exercise==movement].modality.values[0]\n",
    "            cyclelength = prgbld[prgbld.method==mod].week.max()\n",
    "            setAdjust = d[d.exercise==movement].SetAdjust.values[0]\n",
    "            print(movement,mod,setAdjust)\n",
    "            for i in range(endweek):\n",
    "                lkup = i+1 if cyclelength==endweek else (i+1) % cyclelength\n",
    "                lkup = cyclelength if lkup == 0 else lkup\n",
    "                l = [movement,mod,i+1]+prgbld[(prgbld.method==mod) & (prgbld.week==lkup)].filter(v).values.tolist()[0]\n",
    "                df.loc[len(df)] = l\n",
    "                print(df.iloc[r].values)\n",
    "                df.at[r,'sets'] = df.at[r,'sets'] + setAdjust\n",
    "                r+=1\n",
    "    return df"
   ]
  },
  {
   "cell_type": "code",
   "execution_count": null,
   "id": "17e8fa04",
   "metadata": {},
   "outputs": [],
   "source": [
    "def add_data(data,table,connection)\n",
    "for row in data:\n",
    "    qs = '?'+(len(row)-1)*',?'\n",
    "    row.insert(0,mid)\n",
    "    connection.execute('''INSERT into {t}\n",
    "                        values ({row})'''.format(t=table,row=qs))\n",
    "connection.execute()\n"
   ]
  },
  {
   "cell_type": "code",
   "execution_count": null,
   "id": "1df77a55",
   "metadata": {},
   "outputs": [],
   "source": []
  }
 ],
 "metadata": {
  "kernelspec": {
   "display_name": "Python 3 (ipykernel)",
   "language": "python",
   "name": "python3"
  },
  "language_info": {
   "codemirror_mode": {
    "name": "ipython",
    "version": 3
   },
   "file_extension": ".py",
   "mimetype": "text/x-python",
   "name": "python",
   "nbconvert_exporter": "python",
   "pygments_lexer": "ipython3",
   "version": "3.9.7"
  }
 },
 "nbformat": 4,
 "nbformat_minor": 5
}
