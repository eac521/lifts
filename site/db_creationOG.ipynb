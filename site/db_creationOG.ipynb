{
 "cells": [
  {
   "cell_type": "code",
   "execution_count": 1,
   "id": "70dfc2a3",
   "metadata": {},
   "outputs": [],
   "source": [
    "import EAC\n",
    "import os \n",
    "import pandas as pd\n",
    "import sqlite3"
   ]
  },
  {
   "cell_type": "code",
   "execution_count": 2,
   "id": "5e09d2f8",
   "metadata": {},
   "outputs": [],
   "source": [
    "%load_ext autoreload\n",
    "%autoreload 2"
   ]
  },
  {
   "cell_type": "code",
   "execution_count": 3,
   "id": "df1112dd",
   "metadata": {},
   "outputs": [],
   "source": [
    "training = EAC.training()\n",
    "\n",
    "conn = sqlite3.connect('training.db')"
   ]
  },
  {
   "cell_type": "code",
   "execution_count": null,
   "id": "c8badcb4",
   "metadata": {},
   "outputs": [],
   "source": [
    "create_meso_q = '''\n",
    "CREATE TABLE upcomingTraining (\n",
    "week int,\n",
    "session char(20),\n",
    "movement char(20),\n",
    "method char(20),\n",
    "sets int,\n",
    "reps int,\n",
    "weight float(4),\n",
    "progNotes char(140),\n",
    "targetReps int\n",
    ")\n",
    "'''"
   ]
  },
  {
   "cell_type": "code",
   "execution_count": null,
   "id": "6070b6c6",
   "metadata": {},
   "outputs": [],
   "source": [
    "#each movement/lift is the pk\n",
    "create_movement_table_q = '''\n",
    "CREATE TABLE movements (\n",
    "movement CHAR(40) PRIMARY KEY not null,\n",
    "split CHAR(10),\n",
    "acutalMax int,\n",
    "repMaxCalc float(4),\n",
    "veloEquation CHAR(30),\n",
    "kilos binary\n",
    ");\n",
    "\n",
    "'''"
   ]
  },
  {
   "cell_type": "code",
   "execution_count": 33,
   "id": "8e68a6be",
   "metadata": {},
   "outputs": [],
   "source": [
    "#methodID is a amalgamation of method and week \n",
    "create_program_builder_q = '''\n",
    "CREATE TABLE program_builder (\n",
    "methodID char(30) PRIMARY KEY not null,\n",
    "method char(20),\n",
    "week int,\n",
    "sets int,\n",
    "reps int,\n",
    "weight float(4),\n",
    "notes char(140),\n",
    "targetReps int\n",
    ");\n",
    "'''"
   ]
  },
  {
   "cell_type": "code",
   "execution_count": null,
   "id": "1e497795",
   "metadata": {},
   "outputs": [],
   "source": [
    "#sessionID  = date_exercise\n",
    "create_history_q = '''\n",
    "CREATE TABLE history(\n",
    "sessionID PRIMARY KEY not null,\n",
    "sessionDate date,\n",
    "session char(30),\n",
    "movement CHAR(40),\n",
    "method CHAR(20),\n",
    "setsCompleted int,\n",
    "repsCompleted int,\n",
    "weightUsed int,\n",
    "amrapTotal int,\n",
    "newMax binary,\n",
    "notes CHAR(200),\n",
    "RepCalcM int);\n",
    "'''"
   ]
  },
  {
   "cell_type": "code",
   "execution_count": null,
   "id": "989737bf",
   "metadata": {},
   "outputs": [],
   "source": [
    "#veloID = date_exercise_set_rep\n",
    "create_velo_q='''\n",
    "CREATE TABLE velo (\n",
    "movement char(40),\n",
    "sessionDate date,\n",
    "weight_kg float(4),\n",
    "weight_lb float(4),\n",
    "set_ct int,\n",
    "rep int,\n",
    "ecc_con char(4),\n",
    "MPV_ms float(4),\n",
    "peak_velo float(4),\n",
    "rom_cm float(2),\n",
    "rom_in float(2),\n",
    "watts int,\n",
    "est_max_kg float(4),\n",
    "est_max_lb float(4)\n",
    "\n",
    "\n",
    ")\n",
    "'''"
   ]
  },
  {
   "cell_type": "code",
   "execution_count": null,
   "id": "f6cfa3e7",
   "metadata": {},
   "outputs": [],
   "source": [
    "create_rpe_q = '''\n",
    "CREATE TABLE rpe (\n",
    "RPE float(1) PRIMARY KEY not null,\n",
    "rep1 float(4),\n",
    "rep2 float(4),\n",
    "rep3 float(4),\n",
    "rep4 float(4),\n",
    "rep5 float(4),\n",
    "rep6 float(4),\n",
    "rep7 float(4),\n",
    "rep8 float(4),\n",
    "rep9 float(4),\n",
    "rep10 float(4),\n",
    "rep11 float(4),\n",
    "rep12 float(4),\n",
    "rep13 float(4),\n",
    "rep14 float(4),\n",
    "rep15 float(4),\n",
    "rep16 float(4)\n",
    ");'''"
   ]
  },
  {
   "cell_type": "code",
   "execution_count": 35,
   "id": "ac89d059",
   "metadata": {},
   "outputs": [],
   "source": [
    "conn.execute('DROP TABLE program_builder')\n",
    "conn.execute(create_program_builder_q)\n",
    "# conn.execute(create_meso_q)\n",
    "# conn.execute(create_rpe_q)\n",
    "# conn.execute(create_history_q)\n",
    "# conn.execute(create_movement_table_q)\n",
    "# conn.execute(create_velo_q)\n",
    "conn.commit()\n"
   ]
  },
  {
   "cell_type": "markdown",
   "id": "864c9b8a",
   "metadata": {},
   "source": [
    "### Data Loading"
   ]
  },
  {
   "cell_type": "code",
   "execution_count": 25,
   "id": "11d3c3c7",
   "metadata": {},
   "outputs": [],
   "source": [
    "path = os.getcwd()+'/InitialData'"
   ]
  },
  {
   "cell_type": "code",
   "execution_count": 26,
   "id": "146488e3",
   "metadata": {},
   "outputs": [],
   "source": [
    "pbFile = [f for f in os.scandir(path) if f.name.find('Builder')>-1][0]\n",
    "mesoFile = [f for f in os.scandir(path)  if f.name.find(' Meso')!=-1][0]\n",
    "startDate = mesoFile.name.split(' - ')[0][-8:]\n",
    "weeks = mesoFile.name.split(' - ')[1][9:11]\n",
    "setup = mesoFile.name.split(' - ')[1][12:-4]\n"
   ]
  },
  {
   "cell_type": "code",
   "execution_count": 108,
   "id": "1347b970",
   "metadata": {},
   "outputs": [],
   "source": [
    "def create_upcoming_training(file,connection):\n",
    "    df = pd.DataFrame(columns = ['week','session','movement','method','sets','reps','weight','notes','targetReps'])\n",
    "    prgbld = pd.read_sql('''\n",
    "    select * \n",
    "    from program_builder\n",
    "    ''',conn)\n",
    "    mesoDF = pd.read_csv(file).fillna(0)\n",
    "    v = df.columns[-5:].values\n",
    "    r=0\n",
    "    for sesh in mesoDF.session.unique():\n",
    "        d = mesoDF[mesoDF.session == sesh]\n",
    "        for movement in d.exercise.unique():\n",
    "            endweek = d[d.exercise==movement].endWeek.values[0]\n",
    "            mod = d[d.exercise==movement].modality.values[0]\n",
    "            cyclelength = prgbld[prgbld.method==mod].week.max()\n",
    "            setAdjust = d[d.exercise==movement].SetAdjust.values[0]\n",
    "            print(movement,mod,setAdjust)\n",
    "            for i in range(endweek):\n",
    "                lkup = i+1 if cyclelength==endweek else (i+1) % cyclelength\n",
    "                lkup = cyclelength if lkup == 0 else lkup\n",
    "                l = [i+1,sesh,movement,mod]+prgbld[(prgbld.method==mod) & (prgbld.week==lkup)].filter(v).values.tolist()[0]\n",
    "                df.loc[len(df)] = l\n",
    "                df.at[r,'sets'] = df.at[r,'sets'] + setAdjust\n",
    "                r+=1\n",
    "    add_data(df.values,'upcomingTraining',conn)    \n",
    "    print('upcomingTraining table has been updated with {}'.format(file))"
   ]
  },
  {
   "cell_type": "code",
   "execution_count": 64,
   "id": "17e8fa04",
   "metadata": {},
   "outputs": [],
   "source": [
    "def add_data(data,table,connection):\n",
    "    '''Pass through a list or array of values to be written into database'''\n",
    "    qs = '?'+(len(data[0])-1)*',?'\n",
    "    with connection as conn:\n",
    "        conn.executemany('''INSERT into {t}\n",
    "                        VALUES ({row})'''.format(t=table,row=qs),data)"
   ]
  },
  {
   "cell_type": "code",
   "execution_count": 61,
   "id": "ec7c5f88",
   "metadata": {},
   "outputs": [],
   "source": [
    "pbDF = pd.read_csv(pbFile.path)"
   ]
  },
  {
   "cell_type": "code",
   "execution_count": 71,
   "id": "5dee77fa",
   "metadata": {},
   "outputs": [
    {
     "name": "stdout",
     "output_type": "stream",
     "text": [
      "INSERT into program_builder\n",
      "                        VALUES (['?,?,?,?,?,?,?,?'])\n"
     ]
    }
   ],
   "source": [
    "add_data(pbDF.values,'program_builder',conn)"
   ]
  },
  {
   "cell_type": "code",
   "execution_count": 109,
   "id": "8ca6297b",
   "metadata": {},
   "outputs": [
    {
     "name": "stdout",
     "output_type": "stream",
     "text": [
      "bench 5x531 0.0\n",
      "kab bench Tech 0.0\n",
      "db incline Supp 0.0\n",
      "Squat wendDouble 0.0\n",
      "Front Tech 0.0\n",
      "Wide Box Hyp 0.0\n",
      "Deadlift  wendDouble 0.0\n",
      "Trap Str 0.0\n",
      "Meadows Supp 0.0\n",
      "Seal Hyp 1.0\n",
      "Bandbell standing press Supp 1.0\n",
      "Floor Supp 1.0\n",
      "Box Str 0.0\n",
      "goodMorning Hyp 0.0\n",
      "Pendlay row Hyp 1.0\n",
      "t-bar row Hyp 1.0\n",
      "INSERT into upcomingTraining\n",
      "                        VALUES (['?,?,?,?,?,?,?,?,?'])\n",
      "upcomingTraining table has been updated with /Users/ericcoxon/code/lifts/site/InitialData/MesoLoad_06022023 - MesoLoad_18_PPL.csv\n"
     ]
    }
   ],
   "source": [
    "create_upcoming_training(mesoFile.path,conn)"
   ]
  }
 ],
 "metadata": {
  "kernelspec": {
   "display_name": "Python 3 (ipykernel)",
   "language": "python",
   "name": "python3"
  },
  "language_info": {
   "codemirror_mode": {
    "name": "ipython",
    "version": 3
   },
   "file_extension": ".py",
   "mimetype": "text/x-python",
   "name": "python",
   "nbconvert_exporter": "python",
   "pygments_lexer": "ipython3",
   "version": "3.9.7"
  }
 },
 "nbformat": 4,
 "nbformat_minor": 5
}
