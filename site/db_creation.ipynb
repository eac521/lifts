{
 "cells": [
  {
   "cell_type": "code",
   "execution_count": 1,
   "id": "70dfc2a3",
   "metadata": {},
   "outputs": [],
   "source": [
    "from EAC import site\n",
    "import os \n",
    "import pandas as pd\n",
    "import re\n",
    "import numpy as np\n",
    "import sqlite3"
   ]
  },
  {
   "cell_type": "code",
   "execution_count": 2,
   "id": "5e09d2f8",
   "metadata": {},
   "outputs": [],
   "source": [
    "%load_ext autoreload\n",
    "%autoreload 2"
   ]
  },
  {
   "cell_type": "code",
   "execution_count": 3,
   "id": "df1112dd",
   "metadata": {},
   "outputs": [],
   "source": [
    "training = site.training()\n",
    "\n",
    "conn = sqlite3.connect('training.db')"
   ]
  },
  {
   "cell_type": "code",
   "execution_count": 18,
   "id": "2e9f1cc5-5521-42e7-b61e-949ac3e91508",
   "metadata": {},
   "outputs": [
    {
     "ename": "OperationalError",
     "evalue": "no such table: movements",
     "output_type": "error",
     "traceback": [
      "\u001b[0;31m---------------------------------------------------------------------------\u001b[0m",
      "\u001b[0;31mOperationalError\u001b[0m                          Traceback (most recent call last)",
      "Cell \u001b[0;32mIn[18], line 1\u001b[0m\n\u001b[0;32m----> 1\u001b[0m conn\u001b[38;5;241m.\u001b[39mexecute(\u001b[38;5;124m'\u001b[39m\u001b[38;5;124mDROP TABLE movements\u001b[39m\u001b[38;5;124m'\u001b[39m)\n\u001b[1;32m      2\u001b[0m conn\u001b[38;5;241m.\u001b[39mcommit()\n",
      "\u001b[0;31mOperationalError\u001b[0m: no such table: movements"
     ]
    }
   ],
   "source": [
    "conn.execute('DROP TABLE movements')\n",
    "conn.commit()"
   ]
  },
  {
   "cell_type": "code",
   "execution_count": 28,
   "id": "ac85c591-6f95-4ae8-97cb-34ba1c2f2303",
   "metadata": {},
   "outputs": [
    {
     "data": {
      "text/plain": [
       "<sqlite3.Cursor at 0x12ff977c0>"
      ]
     },
     "execution_count": 28,
     "metadata": {},
     "output_type": "execute_result"
    }
   ],
   "source": [
    "conn.execute(create_movement_table_q)"
   ]
  },
  {
   "cell_type": "code",
   "execution_count": null,
   "id": "c8badcb4",
   "metadata": {},
   "outputs": [],
   "source": [
    "create_meso_q = '''\n",
    "CREATE TABLE upcomingTraining (\n",
    "week int,\n",
    "session char(20),\n",
    "movement char(20),\n",
    "method char(20),\n",
    "sets int,\n",
    "reps int,\n",
    "weight float(4),\n",
    "progNotes char(140),\n",
    "targetReps int\n",
    ")\n",
    "'''"
   ]
  },
  {
   "cell_type": "code",
   "execution_count": 152,
   "id": "6070b6c6",
   "metadata": {},
   "outputs": [],
   "source": [
    "#each movement/lift is the pk\n",
    "create_movement_table_q = '''\n",
    "CREATE TABLE movements (\n",
    "movement CHAR(40) PRIMARY KEY not null,\n",
    "split CHAR(10),\n",
    "actualMax int,\n",
    "repMaxCalc float(4),\n",
    "veloEquation CHAR(30),\n",
    "repMax10 int,\n",
    "repMax9 int,\n",
    "repMax8 int,\n",
    "repMax7 int,\n",
    "repMax6 int,\n",
    "repMax5 int,\n",
    "repMax4 int,\n",
    "repMax3 int,\n",
    "repMax2 int,\n",
    "kilos binary\n",
    ");\n",
    "\n",
    "'''"
   ]
  },
  {
   "cell_type": "code",
   "execution_count": 90,
   "id": "8e68a6be",
   "metadata": {},
   "outputs": [],
   "source": [
    "#methodID is a amalgamation of method and week has 8 columns\n",
    "create_program_builder_q = '''\n",
    "CREATE TABLE programBuilder (\n",
    "methodID char(30) PRIMARY KEY not null,\n",
    "method char(20),\n",
    "week int,\n",
    "sets int,\n",
    "reps int,\n",
    "weight float(4),\n",
    "notes char(140),\n",
    "targetReps int\n",
    ");\n",
    "'''"
   ]
  },
  {
   "cell_type": "code",
   "execution_count": null,
   "id": "1e497795",
   "metadata": {},
   "outputs": [],
   "source": [
    "#sessionID  = date_exercise\n",
    "create_history_q = '''\n",
    "CREATE TABLE history(\n",
    "sessionID PRIMARY KEY not null,\n",
    "sessionDate date,\n",
    "session char(30),\n",
    "movement CHAR(40),\n",
    "method CHAR(20),\n",
    "setsCompleted int,\n",
    "repsCompleted int,\n",
    "weightUsed int,\n",
    "amrapTotal int,\n",
    "newMax binary,\n",
    "notes CHAR(200),\n",
    "RepCalcM int);\n",
    "'''"
   ]
  },
  {
   "cell_type": "code",
   "execution_count": null,
   "id": "989737bf",
   "metadata": {},
   "outputs": [],
   "source": [
    "#veloID = date_exercise_set_rep\n",
    "create_velo_q='''\n",
    "CREATE TABLE velo (\n",
    "movement char(40),\n",
    "sessionDate date,\n",
    "weight_kg float(4),\n",
    "weight_lb float(4),\n",
    "set_ct int,\n",
    "rep int,\n",
    "ecc_con char(4),\n",
    "MPV_ms float(4),\n",
    "peak_velo float(4),\n",
    "rom_cm float(2),\n",
    "rom_in float(2),\n",
    "watts int,\n",
    "est_max_kg float(4),\n",
    "est_max_lb float(4)\n",
    "\n",
    "\n",
    ")\n",
    "'''"
   ]
  },
  {
   "cell_type": "code",
   "execution_count": null,
   "id": "f6cfa3e7",
   "metadata": {},
   "outputs": [],
   "source": [
    "create_rpe_q = '''\n",
    "CREATE TABLE rpe (\n",
    "RPE float(1) PRIMARY KEY not null,\n",
    "rep1 float(4),\n",
    "rep2 float(4),\n",
    "rep3 float(4),\n",
    "rep4 float(4),\n",
    "rep5 float(4),\n",
    "rep6 float(4),\n",
    "rep7 float(4),\n",
    "rep8 float(4),\n",
    "rep9 float(4),\n",
    "rep10 float(4),\n",
    "rep11 float(4),\n",
    "rep12 float(4),\n",
    "rep13 float(4),\n",
    "rep14 float(4),\n",
    "rep15 float(4),\n",
    "rep16 float(4)\n",
    ");'''"
   ]
  },
  {
   "cell_type": "code",
   "execution_count": null,
   "id": "ac89d059",
   "metadata": {},
   "outputs": [],
   "source": [
    "\n",
    "conn.execute(create_program_builder_q)\n",
    "# conn.execute(create_meso_q)\n",
    "# conn.execute(create_rpe_q)\n",
    "# conn.execute(create_history_q)\n",
    "# conn.execute(create_movement_table_q)\n",
    "# conn.execute(create_velo_q)\n",
    "conn.commit()\n"
   ]
  },
  {
   "cell_type": "markdown",
   "id": "864c9b8a",
   "metadata": {},
   "source": [
    "### Data Loading"
   ]
  },
  {
   "cell_type": "code",
   "execution_count": 275,
   "id": "17e8fa04",
   "metadata": {},
   "outputs": [],
   "source": [
    "def create_meso_cycle(path,connection):\n",
    "    df = pd.DataFrame(columns = ['movement','method','week','sets','reps','weight','notes','targetReps'])\n",
    "    prgbld = pd.read_sql('''\n",
    "    select methodID, lower(method) as method, week, sets,reps,weight,notes,targetReps\n",
    "    from programBuilder\n",
    "    ''',conn)\n",
    "    mesoDF = pd.read_csv(dataPath+trainingFile).fillna(0)\n",
    "    maxes = pd.read_sql('''\n",
    "    select movement,actualMax\n",
    "    from movements\n",
    "    ''',conn)\n",
    "    v = df.columns[-5:].values\n",
    "    r=0\n",
    "    for sesh in mesoDF.session.unique():\n",
    "        d = mesoDF[mesoDF.session == sesh]\n",
    "        for movement in d.exercise.unique():\n",
    "            endweek = d[d.exercise==movement].endWeek.values[0]\n",
    "            mod = d[d.exercise==movement].modality.values[0]\n",
    "            cyclelength = prgbld[prgbld.method==mod].week.max()\n",
    "            setAdjust = d[d.exercise==movement].SetAdjust.values[0]\n",
    "            for i in range(endweek):\n",
    "                lkup = i+1 if cyclelength==endweek else (i+1) % cyclelength\n",
    "                lkup = cyclelength if lkup == 0 else lkup\n",
    "                l = [movement,mod,i+1]+prgbld[(prgbld.method==mod) & (prgbld.week==lkup)].filter(v).values.tolist()[0]\n",
    "                df.loc[len(df)] = l\n",
    "                df.at[r,'sets'] = df.at[r,'sets'] + setAdjust\n",
    "                r+=1\n",
    "    final = df[['movement','method']].drop_duplicates().reset_index(drop=True)\n",
    "    final.movement = final.movement.str.lower()\n",
    "    final = final.merge(maxes,how='left',on='movement')\n",
    "    for wk in df.week.unique():\n",
    "        final['sets{}'.format(wk)] = df[df.week==wk].sets.values\n",
    "        final['reps{}'.format(wk)] = df[df.week==wk].reps.values\n",
    "        final['weight{}'.format(wk)] = df[df.week==wk].weight.values\n",
    "        final['targetReps{}'.format(wk)] = df[df.week==wk].targetReps.values\n",
    "    print('upload has been sent to InitialData')\n",
    "    final.to_csv('./InitialData/meso_upload.csv')\n",
    "    return final\n",
    "def add_data(path,table,connection,insert=False):\n",
    "    if insert:\n",
    "        cols = pd.read_sql('select * from {} limit 1'.format(table),conn).columns\n",
    "        qs = (len(cols)-1)*'?,'+'?'\n",
    "        connection.execute('''INSERT into {t} values ({row})'''.format(t=table,row=qs),path)\n",
    "        i = 1\n",
    "    else:\n",
    "        with open(path,'r') as d:\n",
    "            for i,row in enumerate(d):\n",
    "                if i==0:\n",
    "                    continue\n",
    "                else:\n",
    "                    row = row.replace('\\n','')\n",
    "                    qs = (len(row.split(','))-1)*'?,'+'?'\n",
    "                    connection.execute('''INSERT into {t} values ({row})'''.format(t=table,row=qs),row.split(','))\n",
    "    \n",
    "    connection.commit()\n",
    "    print('{} has been updated with {} rows of data'.format(table,i))\n",
    "    \n"
   ]
  },
  {
   "cell_type": "code",
   "execution_count": 264,
   "id": "bb752299-2f77-44bd-8eef-c2fe32376afd",
   "metadata": {},
   "outputs": [],
   "source": [
    "def update_movements_table(training_path,conn):\n",
    "    '''\n",
    "    Will take a csv of the training file, will find differences and update the database\n",
    "    '''\n",
    "    training = pd.read_csv('./InitialData/training - TrainingCopy.csv',skiprows=1)\n",
    "    training.movement = training.movement.str.lower()\n",
    "    df = training.filter(['movement']+[col for col in training.columns if col.find('wrk')>-1])\n",
    "    df = df.dropna().set_index('movement')\n",
    "    mvmts = '\",\"'.join(df.index.str.lower().values)\n",
    "    mvmt = pd.read_sql('''select * from movements where movement in (\"{}\")'''.format(mvmts),conn)\n",
    "    ct=0\n",
    "    for lft in df.index.values:\n",
    "    \n",
    "        lft = lft.lower()\n",
    "        print(lft)\n",
    "        try:\n",
    "            if lft not in mvmt.movement.str.lower().values:\n",
    "                print('\\tAdding into movements table'.format(lft))\n",
    "                d = [lft,None,df.loc[lft]['wrk_10']] + [np.nan] * (len(mvmt.columns) - 3)\n",
    "                add_data(d,'movements',conn,True)\n",
    "                ct+=1\n",
    "            else:\n",
    "                print('\\tHave {} in database table'.format(lft))\n",
    "        except:\n",
    "            print('\\t{} NOT ADDED'.format(lft.upper()))\n",
    "        try:\n",
    "            if df.loc[lft]['wrk_10'] != mvmt[mvmt.movement==lft]['actualMax'].values[0]:\n",
    "                print('\\tNew working max')\n",
    "                conn.execute('''UPDATE movements\n",
    "                        SET actualMax = {0} where movement = \"{1}\" '''.format(df.loc[lft]['wrk_10'],lft))\n",
    "            ct+=1\n",
    "        except:\n",
    "            print('\\tMax same as prior meso') \n",
    "        conn.commit()\n",
    "    print('updated movements table with {} edits'.format(ct))"
   ]
  },
  {
   "cell_type": "code",
   "execution_count": 148,
   "id": "bd95e0fb-85c5-4d6d-8a8b-35b59ec3ffc8",
   "metadata": {},
   "outputs": [
    {
     "name": "stdout",
     "output_type": "stream",
     "text": [
      "\tNew working max\n"
     ]
    }
   ],
   "source": [
    "lft  = 'tsunami squat'\n",
    "if tdf.loc[lft]['wrk_10'] != mvmt[mvmt.movement==lft]['actualMax'].values[0]:\n",
    "    print('\\tNew working max')\n",
    "    conn.execute('''UPDATE movements\n",
    "            SET actualMax = {0} where movement = \"{1}\" '''.format(tdf.loc[lft]['wrk_10'],lft))"
   ]
  },
  {
   "cell_type": "code",
   "execution_count": 265,
   "id": "5918b69f-487c-420e-94a5-1c4e00ae0937",
   "metadata": {},
   "outputs": [
    {
     "name": "stdout",
     "output_type": "stream",
     "text": [
      "slingshot\n",
      "\tAdding into movements table\n",
      "movements has been updated with 1 rows of data\n",
      "\tMax same as prior meso\n",
      "bandbell incline\n",
      "\tAdding into movements table\n",
      "movements has been updated with 1 rows of data\n",
      "\tMax same as prior meso\n",
      "hatfield\n",
      "\tHave hatfield in database table\n",
      "\tNew working max\n",
      "tsnumai squat\n",
      "\tAdding into movements table\n",
      "movements has been updated with 1 rows of data\n",
      "\tMax same as prior meso\n",
      "trap\n",
      "\tHave trap in database table\n",
      "\tNew working max\n",
      "meadows\n",
      "\tHave meadows in database table\n",
      "pinpress\n",
      "\tHave pinpress in database table\n",
      "\tNew working max\n",
      "standing mil\n",
      "\tAdding into movements table\n",
      "movements has been updated with 1 rows of data\n",
      "\tMax same as prior meso\n",
      "tempo\n",
      "\tAdding into movements table\n",
      "movements has been updated with 1 rows of data\n",
      "\tMax same as prior meso\n",
      "good morning\n",
      "\tAdding into movements table\n",
      "movements has been updated with 1 rows of data\n",
      "\tMax same as prior meso\n",
      "pendlay row\n",
      "\tHave pendlay row in database table\n",
      "\tNew working max\n",
      "seal row\n",
      "\tHave seal row in database table\n",
      "\tNew working max\n",
      "updated movements table with 12 edits\n"
     ]
    }
   ],
   "source": [
    "update_movements_table('./InitialData/training - TrainingCopy.csv',conn)"
   ]
  },
  {
   "cell_type": "markdown",
   "id": "c5d946c7-36f3-4bb3-beb7-aa2ca5149270",
   "metadata": {},
   "source": [
    "## Process in the future is \n",
    "1. run update_movements_table()\n",
    "2. create meso\n",
    "3. load into our google sheet\n",
    "4. when done, upload training file in update movements table\n",
    "\n",
    "### next steps:\n",
    "we have the setup to find if lifts only went up during the cycle - .is_monotonic_increasing\n",
    "can grab the new max from wrk10\n",
    "\\"
   ]
  },
  {
   "cell_type": "code",
   "execution_count": 155,
   "id": "639fffa6",
   "metadata": {},
   "outputs": [],
   "source": [
    "import os\n",
    "dataPath = './InitialData/'"
   ]
  },
  {
   "cell_type": "code",
   "execution_count": 156,
   "id": "a2511f72",
   "metadata": {},
   "outputs": [],
   "source": [
    "pgFile = 'MesoLoad_06022023 - ProgramBuilder.csv'\n",
    "moveFile = 'MesoLoad_06022023 - lifts.csv'\n",
    "rpeFile='MesoLoad_06022023 - RPE.csv'\n",
    "trainingFile = 'MesoLoad_052522024 - MesoLoad_18_PPL.csv'"
   ]
  },
  {
   "cell_type": "code",
   "execution_count": 127,
   "id": "6c9a3b3e",
   "metadata": {},
   "outputs": [],
   "source": [
    "conn.execute('DROP TABLE programBuilder')\n",
    "conn.execute(create_program_builder_q)\n",
    "conn.commit()"
   ]
  },
  {
   "cell_type": "code",
   "execution_count": 279,
   "id": "b195e53a-6bc8-4423-8e0c-5a95c09d521e",
   "metadata": {},
   "outputs": [],
   "source": [
    "conn.execute('DROP TABLE movements')\n",
    "conn.commit()"
   ]
  },
  {
   "cell_type": "code",
   "execution_count": 280,
   "id": "d8fb54b2-e950-457f-8475-ebe5758439ad",
   "metadata": {},
   "outputs": [
    {
     "name": "stdout",
     "output_type": "stream",
     "text": [
      "movements has been updated with 78 rows of data\n"
     ]
    }
   ],
   "source": [
    "conn.execute(create_movement_table_q)\n",
    "conn.commit()\n",
    "add_data(dataPath + moveFile,'movements',conn)"
   ]
  },
  {
   "cell_type": "code",
   "execution_count": null,
   "id": "0b54817e-73da-4506-9841-21274977f85b",
   "metadata": {},
   "outputs": [],
   "source": []
  }
 ],
 "metadata": {
  "kernelspec": {
   "display_name": "Python 3 (ipykernel)",
   "language": "python",
   "name": "python3"
  },
  "language_info": {
   "codemirror_mode": {
    "name": "ipython",
    "version": 3
   },
   "file_extension": ".py",
   "mimetype": "text/x-python",
   "name": "python",
   "nbconvert_exporter": "python",
   "pygments_lexer": "ipython3",
   "version": "3.11.7"
  }
 },
 "nbformat": 4,
 "nbformat_minor": 5
}
