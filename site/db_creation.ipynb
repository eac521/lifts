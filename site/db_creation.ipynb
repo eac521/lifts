{
 "cells": [
  {
   "cell_type": "code",
   "execution_count": 89,
   "id": "70dfc2a3",
   "metadata": {},
   "outputs": [],
   "source": [
    "import EAC\n",
    "import os \n",
    "import pandas as pd\n",
    "import sqlite3"
   ]
  },
  {
   "cell_type": "code",
   "execution_count": 90,
   "id": "5e09d2f8",
   "metadata": {},
   "outputs": [
    {
     "name": "stdout",
     "output_type": "stream",
     "text": [
      "The autoreload extension is already loaded. To reload it, use:\n",
      "  %reload_ext autoreload\n"
     ]
    }
   ],
   "source": [
    "%load_ext autoreload\n",
    "%autoreload 2"
   ]
  },
  {
   "cell_type": "code",
   "execution_count": 91,
   "id": "df1112dd",
   "metadata": {},
   "outputs": [],
   "source": [
    "training = EAC.training()"
   ]
  },
  {
   "cell_type": "code",
   "execution_count": 93,
   "id": "c8badcb4",
   "metadata": {},
   "outputs": [],
   "source": [
    "create_meso_q = '''\n",
    "CREATE TABLE upcomingTraining (\n",
    "week int,\n",
    "session char(20),\n",
    "movement char(20),\n",
    "method char(20)\n",
    ")\n",
    "'''"
   ]
  },
  {
   "cell_type": "code",
   "execution_count": 94,
   "id": "6070b6c6",
   "metadata": {},
   "outputs": [],
   "source": [
    "#each movement/lift is the pk\n",
    "create_movement_table_q = '''\n",
    "CREATE TABLE movements (\n",
    "movement CHAR(40) PRIMARY KEY not null,\n",
    "split CHAR(10),\n",
    "acutalMax int,\n",
    "repMaxCalc float(4),\n",
    "veloEquation CHAR(30),\n",
    "kilos binary\n",
    ");\n",
    "\n",
    "'''"
   ]
  },
  {
   "cell_type": "code",
   "execution_count": 145,
   "id": "8e68a6be",
   "metadata": {},
   "outputs": [],
   "source": [
    "#methodID is a amalgamation of method and week \n",
    "create_program_builder_q = '''\n",
    "CREATE TABLE program_builder (\n",
    "methodID char(30) PRIMARY KEY not null,\n",
    "method char(20),\n",
    "week int,\n",
    "sets int,\n",
    "reps int,\n",
    "weight float(4),\n",
    "notes char(140)\n",
    "targetReps int\n",
    ");\n",
    "'''"
   ]
  },
  {
   "cell_type": "code",
   "execution_count": null,
   "id": "a949b463",
   "metadata": {},
   "outputs": [],
   "source": []
  },
  {
   "cell_type": "code",
   "execution_count": 96,
   "id": "1e497795",
   "metadata": {},
   "outputs": [],
   "source": [
    "#sessionID  = date_exercise\n",
    "create_history_q = '''\n",
    "CREATE TABLE history(\n",
    "sessionID PRIMARY KEY not null,\n",
    "sessionDate date,\n",
    "session char(30),\n",
    "movement CHAR(40),\n",
    "method CHAR(20),\n",
    "setsCompleted int,\n",
    "repsCompleted int,\n",
    "weightUsed int,\n",
    "amrapTotal int,\n",
    "newMax binary,\n",
    "notes CHAR(200),\n",
    "RepCalcM int);\n",
    "'''"
   ]
  },
  {
   "cell_type": "code",
   "execution_count": 108,
   "id": "989737bf",
   "metadata": {},
   "outputs": [],
   "source": [
    "#veloID = date_exercise_set_rep\n",
    "create_velo_q='''\n",
    "CREATE TABLE velo (\n",
    "movement char(40),\n",
    "sessionDate date,\n",
    "weight_kg float(4),\n",
    "weight_lb float(4),\n",
    "set_ct int,\n",
    "rep int,\n",
    "ecc_con char(4),\n",
    "MPV_ms float(4),\n",
    "peak_velo float(4),\n",
    "rom_cm float(2),\n",
    "rom_in float(2),\n",
    "watts int,\n",
    "est_max_kg float(4),\n",
    "est_max_lb float(4)\n",
    "\n",
    "\n",
    ")\n",
    "'''"
   ]
  },
  {
   "cell_type": "code",
   "execution_count": 99,
   "id": "f6cfa3e7",
   "metadata": {},
   "outputs": [],
   "source": [
    "create_rpe_q = '''\n",
    "CREATE TABLE rpe (\n",
    "RPE float(1) PRIMARY KEY not null,\n",
    "rep1 float(4),\n",
    "rep2 float(4),\n",
    "rep3 float(4),\n",
    "rep4 float(4),\n",
    "rep5 float(4),\n",
    "rep6 float(4),\n",
    "rep7 float(4),\n",
    "rep8 float(4),\n",
    "rep9 float(4),\n",
    "rep10 float(4),\n",
    "rep11 float(4),\n",
    "rep12 float(4),\n",
    "rep13 float(4),\n",
    "rep14 float(4),\n",
    "rep15 float(4),\n",
    "rep16 float(4)\n",
    ");'''"
   ]
  },
  {
   "cell_type": "code",
   "execution_count": 101,
   "id": "ac89d059",
   "metadata": {},
   "outputs": [],
   "source": [
    "\n",
    "conn = sqlite3.connect('training.db')\n",
    "conn.execute(create_program_builder_q)\n",
    "conn.execute(create_meso_q)\n",
    "conn.execute(create_rpe_q)\n",
    "conn.execute(create_history_q)\n",
    "conn.execute(create_movement_table_q)\n",
    "conn.execute(create_velo_q)\n",
    "conn.commit()\n"
   ]
  },
  {
   "cell_type": "code",
   "execution_count": 110,
   "id": "72f65c34",
   "metadata": {},
   "outputs": [],
   "source": [
    "conn.commit()"
   ]
  },
  {
   "cell_type": "markdown",
   "id": "864c9b8a",
   "metadata": {},
   "source": [
    "### Data Loading"
   ]
  },
  {
   "cell_type": "code",
   "execution_count": 117,
   "id": "73e103e8",
   "metadata": {},
   "outputs": [],
   "source": [
    "files  = ['./initialData/'+f for f in os.listdir('./initialData')]"
   ]
  },
  {
   "cell_type": "code",
   "execution_count": 118,
   "id": "2ad55041",
   "metadata": {},
   "outputs": [
    {
     "data": {
      "text/plain": [
       "'./initialData/MesoLoad_06022023 - ProgramBuilder.csv'"
      ]
     },
     "execution_count": 118,
     "metadata": {},
     "output_type": "execute_result"
    }
   ],
   "source": [
    "files[0]"
   ]
  },
  {
   "cell_type": "code",
   "execution_count": 125,
   "id": "fe546862",
   "metadata": {},
   "outputs": [],
   "source": [
    "df = pd.read_csv(files[0])\n",
    "df = df.filter([col for col in df.columns if col.find('Unnamed')==-1])"
   ]
  },
  {
   "cell_type": "code",
   "execution_count": 127,
   "id": "2d2f6c37",
   "metadata": {},
   "outputs": [],
   "source": [
    "df.TargetReps = df.TargetReps.fillna(0)\n",
    "df.Notes = df.Notes.fillna('None')"
   ]
  },
  {
   "cell_type": "code",
   "execution_count": 128,
   "id": "6808b570",
   "metadata": {},
   "outputs": [
    {
     "data": {
      "text/html": [
       "<div>\n",
       "<style scoped>\n",
       "    .dataframe tbody tr th:only-of-type {\n",
       "        vertical-align: middle;\n",
       "    }\n",
       "\n",
       "    .dataframe tbody tr th {\n",
       "        vertical-align: top;\n",
       "    }\n",
       "\n",
       "    .dataframe thead th {\n",
       "        text-align: right;\n",
       "    }\n",
       "</style>\n",
       "<table border=\"1\" class=\"dataframe\">\n",
       "  <thead>\n",
       "    <tr style=\"text-align: right;\">\n",
       "      <th></th>\n",
       "      <th>method</th>\n",
       "      <th>week</th>\n",
       "      <th>sets</th>\n",
       "      <th>reps</th>\n",
       "      <th>weight</th>\n",
       "      <th>Notes</th>\n",
       "      <th>TargetReps</th>\n",
       "    </tr>\n",
       "  </thead>\n",
       "  <tbody>\n",
       "    <tr>\n",
       "      <th>0</th>\n",
       "      <td>5x531</td>\n",
       "      <td>1</td>\n",
       "      <td>5</td>\n",
       "      <td>5</td>\n",
       "      <td>76.5</td>\n",
       "      <td>None</td>\n",
       "      <td>9.0</td>\n",
       "    </tr>\n",
       "    <tr>\n",
       "      <th>1</th>\n",
       "      <td>5x531</td>\n",
       "      <td>2</td>\n",
       "      <td>5</td>\n",
       "      <td>3</td>\n",
       "      <td>81</td>\n",
       "      <td>None</td>\n",
       "      <td>7.0</td>\n",
       "    </tr>\n",
       "    <tr>\n",
       "      <th>2</th>\n",
       "      <td>5x531</td>\n",
       "      <td>3</td>\n",
       "      <td>5</td>\n",
       "      <td>1</td>\n",
       "      <td>85.5</td>\n",
       "      <td>None</td>\n",
       "      <td>5.0</td>\n",
       "    </tr>\n",
       "    <tr>\n",
       "      <th>3</th>\n",
       "      <td>wendDouble</td>\n",
       "      <td>1</td>\n",
       "      <td>3</td>\n",
       "      <td>2</td>\n",
       "      <td>76.5</td>\n",
       "      <td>None</td>\n",
       "      <td>0.0</td>\n",
       "    </tr>\n",
       "    <tr>\n",
       "      <th>4</th>\n",
       "      <td>wendDouble</td>\n",
       "      <td>2</td>\n",
       "      <td>3</td>\n",
       "      <td>2</td>\n",
       "      <td>81</td>\n",
       "      <td>go up at least 5% if feeling good or just repeat</td>\n",
       "      <td>0.0</td>\n",
       "    </tr>\n",
       "    <tr>\n",
       "      <th>...</th>\n",
       "      <td>...</td>\n",
       "      <td>...</td>\n",
       "      <td>...</td>\n",
       "      <td>...</td>\n",
       "      <td>...</td>\n",
       "      <td>...</td>\n",
       "      <td>...</td>\n",
       "    </tr>\n",
       "    <tr>\n",
       "      <th>86</th>\n",
       "      <td>TUTBand</td>\n",
       "      <td>1</td>\n",
       "      <td>4</td>\n",
       "      <td>30,35,40,45</td>\n",
       "      <td>72.5</td>\n",
       "      <td>last set drop a band tension  or to bdy weight...</td>\n",
       "      <td>0.0</td>\n",
       "    </tr>\n",
       "    <tr>\n",
       "      <th>87</th>\n",
       "      <td>contrast</td>\n",
       "      <td>1</td>\n",
       "      <td>6</td>\n",
       "      <td>1,6,1,6,1,6</td>\n",
       "      <td>90,75,90,77.5,90,80</td>\n",
       "      <td>None</td>\n",
       "      <td>0.0</td>\n",
       "    </tr>\n",
       "    <tr>\n",
       "      <th>88</th>\n",
       "      <td>highWave</td>\n",
       "      <td>1</td>\n",
       "      <td>6</td>\n",
       "      <td>7,5,3,7,5,3</td>\n",
       "      <td>75,80,82.5,+10,+10,+10</td>\n",
       "      <td>None</td>\n",
       "      <td>0.0</td>\n",
       "    </tr>\n",
       "    <tr>\n",
       "      <th>89</th>\n",
       "      <td>50s</td>\n",
       "      <td>1</td>\n",
       "      <td>x</td>\n",
       "      <td>50</td>\n",
       "      <td>70</td>\n",
       "      <td>as many sets to get to 50 time</td>\n",
       "      <td>0.0</td>\n",
       "    </tr>\n",
       "    <tr>\n",
       "      <th>90</th>\n",
       "      <td>back-offs</td>\n",
       "      <td>1</td>\n",
       "      <td>4</td>\n",
       "      <td>6-15</td>\n",
       "      <td>NaN</td>\n",
       "      <td>work up to rep max and then take 90% of that a...</td>\n",
       "      <td>0.0</td>\n",
       "    </tr>\n",
       "  </tbody>\n",
       "</table>\n",
       "<p>91 rows × 7 columns</p>\n",
       "</div>"
      ],
      "text/plain": [
       "        method  week sets         reps                  weight  \\\n",
       "0        5x531     1    5            5                    76.5   \n",
       "1        5x531     2    5            3                      81   \n",
       "2        5x531     3    5            1                    85.5   \n",
       "3   wendDouble     1    3            2                    76.5   \n",
       "4   wendDouble     2    3            2                      81   \n",
       "..         ...   ...  ...          ...                     ...   \n",
       "86     TUTBand     1    4  30,35,40,45                    72.5   \n",
       "87    contrast     1    6  1,6,1,6,1,6     90,75,90,77.5,90,80   \n",
       "88    highWave     1    6  7,5,3,7,5,3  75,80,82.5,+10,+10,+10   \n",
       "89         50s     1    x           50                      70   \n",
       "90   back-offs     1    4         6-15                     NaN   \n",
       "\n",
       "                                                Notes  TargetReps  \n",
       "0                                                None         9.0  \n",
       "1                                                None         7.0  \n",
       "2                                                None         5.0  \n",
       "3                                                None         0.0  \n",
       "4    go up at least 5% if feeling good or just repeat         0.0  \n",
       "..                                                ...         ...  \n",
       "86  last set drop a band tension  or to bdy weight...         0.0  \n",
       "87                                               None         0.0  \n",
       "88                                               None         0.0  \n",
       "89                     as many sets to get to 50 time         0.0  \n",
       "90  work up to rep max and then take 90% of that a...         0.0  \n",
       "\n",
       "[91 rows x 7 columns]"
      ]
     },
     "execution_count": 128,
     "metadata": {},
     "output_type": "execute_result"
    }
   ],
   "source": [
    "df"
   ]
  },
  {
   "cell_type": "code",
   "execution_count": 137,
   "id": "3e2f8d75",
   "metadata": {},
   "outputs": [
    {
     "data": {
      "text/plain": [
       "'?,?,?,?,?,?,?,?,?'"
      ]
     },
     "execution_count": 137,
     "metadata": {},
     "output_type": "execute_result"
    }
   ],
   "source": [
    "'?'+',?'*8"
   ]
  },
  {
   "cell_type": "code",
   "execution_count": 139,
   "id": "bcab776e",
   "metadata": {},
   "outputs": [
    {
     "data": {
      "text/plain": [
       "'INSERT into program_builder\\n                        values (?,?,?,?,?,?,?)'"
      ]
     },
     "execution_count": 139,
     "metadata": {},
     "output_type": "execute_result"
    }
   ],
   "source": [
    "\n",
    "('''INSERT into {t}\n",
    "                        values ({row})'''.format(t=table,row=rowi))"
   ]
  },
  {
   "cell_type": "code",
   "execution_count": 144,
   "id": "89391a85",
   "metadata": {},
   "outputs": [
    {
     "ename": "IntegrityError",
     "evalue": "UNIQUE constraint failed: program_builder.methodID",
     "output_type": "error",
     "traceback": [
      "\u001b[0;31m---------------------------------------------------------------------------\u001b[0m",
      "\u001b[0;31mIntegrityError\u001b[0m                            Traceback (most recent call last)",
      "\u001b[0;32m/var/folders/y5/cm5rrvr94yx214kzmtmsbvz40000gn/T/ipykernel_15683/135766480.py\u001b[0m in \u001b[0;36m<module>\u001b[0;34m\u001b[0m\n\u001b[1;32m      1\u001b[0m \u001b[0mrowi\u001b[0m \u001b[0;34m=\u001b[0m \u001b[0;34m'?'\u001b[0m\u001b[0;34m+\u001b[0m\u001b[0;34m',?'\u001b[0m\u001b[0;34m*\u001b[0m\u001b[0;34m(\u001b[0m\u001b[0mlen\u001b[0m\u001b[0;34m(\u001b[0m\u001b[0mdf\u001b[0m\u001b[0;34m.\u001b[0m\u001b[0mcolumns\u001b[0m\u001b[0;34m)\u001b[0m\u001b[0;34m-\u001b[0m\u001b[0;36m1\u001b[0m\u001b[0;34m)\u001b[0m\u001b[0;34m\u001b[0m\u001b[0;34m\u001b[0m\u001b[0m\n\u001b[0;32m----> 2\u001b[0;31m conn.executemany('''INSERT into {t}\n\u001b[0m\u001b[1;32m      3\u001b[0m                         values ({row})'''.format(t=table,row=rowi),df.values)\n",
      "\u001b[0;31mIntegrityError\u001b[0m: UNIQUE constraint failed: program_builder.methodID"
     ]
    }
   ],
   "source": [
    "rowi = '?'+',?'*(len(df.columns)-1)\n",
    "conn.executemany('''INSERT into {t}\n",
    "                        values ({row})'''.format(t=table,row=rowi),df.values)"
   ]
  },
  {
   "cell_type": "code",
   "execution_count": 143,
   "id": "487b29b1",
   "metadata": {},
   "outputs": [
    {
     "data": {
      "text/plain": [
       "'?,?,?,?,?,?,?'"
      ]
     },
     "execution_count": 143,
     "metadata": {},
     "output_type": "execute_result"
    }
   ],
   "source": [
    "rowi"
   ]
  },
  {
   "cell_type": "code",
   "execution_count": null,
   "id": "18cf20f3",
   "metadata": {},
   "outputs": [],
   "source": []
  },
  {
   "cell_type": "code",
   "execution_count": null,
   "id": "c9742f03",
   "metadata": {},
   "outputs": [],
   "source": []
  },
  {
   "cell_type": "code",
   "execution_count": null,
   "id": "92427cc1",
   "metadata": {},
   "outputs": [],
   "source": []
  },
  {
   "cell_type": "code",
   "execution_count": null,
   "id": "07487ede",
   "metadata": {},
   "outputs": [],
   "source": []
  }
 ],
 "metadata": {
  "kernelspec": {
   "display_name": "Python 3 (ipykernel)",
   "language": "python",
   "name": "python3"
  },
  "language_info": {
   "codemirror_mode": {
    "name": "ipython",
    "version": 3
   },
   "file_extension": ".py",
   "mimetype": "text/x-python",
   "name": "python",
   "nbconvert_exporter": "python",
   "pygments_lexer": "ipython3",
   "version": "3.9.7"
  }
 },
 "nbformat": 4,
 "nbformat_minor": 5
}
